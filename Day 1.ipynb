{
 "cells": [
  {
   "cell_type": "markdown",
   "metadata": {},
   "source": [
    "# Python"
   ]
  },
  {
   "cell_type": "markdown",
   "metadata": {},
   "source": [
    "1. Founder - Guido Van Rossum\n",
    "2. Lanched - Feb 12, 1991"
   ]
  },
  {
   "cell_type": "markdown",
   "metadata": {},
   "source": [
    "# 08/03/2021"
   ]
  },
  {
   "cell_type": "code",
   "execution_count": 10,
   "metadata": {},
   "outputs": [
    {
     "name": "stdout",
     "output_type": "stream",
     "text": [
      "Welcome to Python\n",
      "Welcome to Python\n",
      "welcome\n",
      "1\n",
      "2\n",
      "1\n"
     ]
    }
   ],
   "source": [
    "print(\"Welcome to Python\")\n",
    "print('Welcome to Python')\n",
    "print(\"welcome\")\n",
    "print(1)\n",
    "print(2)\n",
    "print(\"1\")"
   ]
  },
  {
   "cell_type": "code",
   "execution_count": 17,
   "metadata": {},
   "outputs": [
    {
     "name": "stdout",
     "output_type": "stream",
     "text": [
      "<class 'str'>\n",
      "Python\n"
     ]
    }
   ],
   "source": [
    "name=\"Python\"\n",
    "print(type(name))\n",
    "print(name)"
   ]
  },
  {
   "cell_type": "code",
   "execution_count": 20,
   "metadata": {},
   "outputs": [
    {
     "name": "stdout",
     "output_type": "stream",
     "text": [
      "<class 'int'>\n",
      "1\n"
     ]
    }
   ],
   "source": [
    "a=1\n",
    "print(type(a))\n",
    "print(a)"
   ]
  },
  {
   "cell_type": "code",
   "execution_count": 22,
   "metadata": {},
   "outputs": [
    {
     "name": "stdout",
     "output_type": "stream",
     "text": [
      "<class 'float'>\n",
      "2.3\n"
     ]
    }
   ],
   "source": [
    "b=2.3\n",
    "print(type(b))\n",
    "print(b)"
   ]
  },
  {
   "cell_type": "code",
   "execution_count": 95,
   "metadata": {},
   "outputs": [
    {
     "name": "stdout",
     "output_type": "stream",
     "text": [
      "<class 'tuple'>\n",
      "(4, 5, 7, 8, 0, 'Sam', 4.5, 6.67)\n",
      "4\n",
      "5\n",
      "Sam\n",
      "6.67\n",
      "(4, 5, 7, 8, 0, 'Sam')\n",
      "(4, 5, 7, 8, 0, 'Sam')\n",
      "('Sam', 4.5, 6.67)\n",
      "(7, 8, 0, 'Sam', 4.5)\n"
     ]
    },
    {
     "ename": "TypeError",
     "evalue": "'tuple' object does not support item assignment",
     "output_type": "error",
     "traceback": [
      "\u001b[1;31m---------------------------------------------------------------------------\u001b[0m",
      "\u001b[1;31mTypeError\u001b[0m                                 Traceback (most recent call last)",
      "\u001b[1;32m<ipython-input-95-3d85841b34f5>\u001b[0m in \u001b[0;36m<module>\u001b[1;34m\u001b[0m\n\u001b[0;32m     10\u001b[0m \u001b[0mprint\u001b[0m\u001b[1;33m(\u001b[0m\u001b[0mtup\u001b[0m\u001b[1;33m[\u001b[0m\u001b[1;36m5\u001b[0m\u001b[1;33m:\u001b[0m\u001b[1;36m8\u001b[0m\u001b[1;33m]\u001b[0m\u001b[1;33m)\u001b[0m\u001b[1;33m\u001b[0m\u001b[1;33m\u001b[0m\u001b[0m\n\u001b[0;32m     11\u001b[0m \u001b[0mprint\u001b[0m\u001b[1;33m(\u001b[0m\u001b[0mtup\u001b[0m\u001b[1;33m[\u001b[0m\u001b[1;36m2\u001b[0m\u001b[1;33m:\u001b[0m\u001b[1;33m-\u001b[0m\u001b[1;36m1\u001b[0m\u001b[1;33m]\u001b[0m\u001b[1;33m)\u001b[0m\u001b[1;33m\u001b[0m\u001b[1;33m\u001b[0m\u001b[0m\n\u001b[1;32m---> 12\u001b[1;33m \u001b[0mtup\u001b[0m\u001b[1;33m[\u001b[0m\u001b[1;36m4\u001b[0m\u001b[1;33m]\u001b[0m\u001b[1;33m=\u001b[0m\u001b[1;36m10\u001b[0m \u001b[1;31m#tuples are immutable\u001b[0m\u001b[1;33m\u001b[0m\u001b[1;33m\u001b[0m\u001b[0m\n\u001b[0m\u001b[0;32m     13\u001b[0m \u001b[0mprint\u001b[0m\u001b[1;33m(\u001b[0m\u001b[0mtup\u001b[0m\u001b[1;33m)\u001b[0m\u001b[1;33m\u001b[0m\u001b[1;33m\u001b[0m\u001b[0m\n",
      "\u001b[1;31mTypeError\u001b[0m: 'tuple' object does not support item assignment"
     ]
    }
   ],
   "source": [
    "tup=(4,5,7,8,0,\"Sam\",4.5,6.67)\n",
    "print(type(tup))\n",
    "print(tup)\n",
    "print(tup[0])\n",
    "print(tup[1])\n",
    "print(tup[5])\n",
    "print(tup[7])\n",
    "print(tup[0:6])\n",
    "print(tup[:6])\n",
    "print(tup[5:8])\n",
    "print(tup[2:-1])\n",
    "tup[4]=10 #tuples are immutable\n",
    "print(tup)"
   ]
  },
  {
   "cell_type": "code",
   "execution_count": 94,
   "metadata": {},
   "outputs": [
    {
     "name": "stdout",
     "output_type": "stream",
     "text": [
      "<class 'list'>\n",
      "[3, 5, 7, 9, 10, 'Kohli', 'Dhoni', 9.8, 8.4]\n",
      "3\n",
      "7\n",
      "[9, 10, 'Kohli', 'Dhoni']\n",
      "[3, 5, 7, 9, 0, 'Kohli', 'Dhoni', 9.8, 8.4]\n"
     ]
    }
   ],
   "source": [
    "l=[3,5,7,9,10,\"Kohli\",\"Dhoni\",9.8,8.4]\n",
    "print(type(l))\n",
    "print(l)\n",
    "print(l[0])\n",
    "print(l[2])\n",
    "print(l[3:7])\n",
    "l[4]=0 #lists are mutable\n",
    "print(l)"
   ]
  },
  {
   "cell_type": "code",
   "execution_count": 108,
   "metadata": {},
   "outputs": [
    {
     "name": "stdout",
     "output_type": "stream",
     "text": [
      "<class 'dict'>\n",
      "{'Chennai': 'Dhoni', 'Mumbai': 'Rohit', 'Runs': 100, 'Runrate': 7.8}\n",
      "Dhoni Rohit 100\n",
      "Raina\n",
      "{'Chennai': 'Raina', 'Mumbai': 'Rohit', 'Runs': 100, 'Runrate': 7.8}\n"
     ]
    }
   ],
   "source": [
    "#d={\"key1\":\"value1\",\"key2\":\"value2\",\"key3\":\"value3\"}\n",
    "d={\"Chennai\":\"Dhoni\",\"Mumbai\":\"Rohit\",\"Runs\":100,\"Runrate\":7.8}\n",
    "print(type(d))\n",
    "print(d)\n",
    "print(d[\"Chennai\"],d[\"Mumbai\"],d[\"Runs\"])\n",
    "d[\"Chennai\"]=\"Raina\"\n",
    "print(d[\"Chennai\"])\n",
    "print(d)"
   ]
  },
  {
   "cell_type": "code",
   "execution_count": 54,
   "metadata": {},
   "outputs": [
    {
     "name": "stdout",
     "output_type": "stream",
     "text": [
      "hello10\n"
     ]
    }
   ],
   "source": [
    "#Concatenation\n",
    "t=\"hello\" #string\n",
    "a=\"10\" #integer\n",
    "print(t+a)  "
   ]
  },
  {
   "cell_type": "code",
   "execution_count": 58,
   "metadata": {},
   "outputs": [
    {
     "name": "stdout",
     "output_type": "stream",
     "text": [
      "hellohellohellohellohellohellohellohellohellohello\n"
     ]
    }
   ],
   "source": [
    "#Replication\n",
    "t=\"hello\" #string\n",
    "a=10 #integer\n",
    "print(t*a)"
   ]
  },
  {
   "cell_type": "markdown",
   "metadata": {},
   "source": [
    "# Slicing"
   ]
  },
  {
   "cell_type": "code",
   "execution_count": 116,
   "metadata": {},
   "outputs": [
    {
     "name": "stdout",
     "output_type": "stream",
     "text": [
      "Ban\n",
      "nana \n",
      "anan\n",
      " is\n",
      "is\n"
     ]
    }
   ],
   "source": [
    "fruit=\"Banana is a fruit\"\n",
    "print(fruit[0:3])\n",
    "print(fruit[2:7])\n",
    "print(fruit[1:5])\n",
    "print(fruit[6:9])\n",
    "print(fruit[7:9])"
   ]
  },
  {
   "cell_type": "code",
   "execution_count": 6,
   "metadata": {},
   "outputs": [
    {
     "name": "stdout",
     "output_type": "stream",
     "text": [
      "1.0\n",
      "<class 'float'>\n",
      "<class 'int'>\n",
      "1.0\n",
      "<class 'float'>\n"
     ]
    }
   ],
   "source": [
    "a=1\n",
    "b=float(a)\n",
    "print(b)\n",
    "print(type(b))\n",
    "print(type(a))\n",
    "print(float(a))\n",
    "print(type(float(a)))"
   ]
  },
  {
   "cell_type": "code",
   "execution_count": 1,
   "metadata": {},
   "outputs": [
    {
     "name": "stdout",
     "output_type": "stream",
     "text": [
      "5\n"
     ]
    }
   ],
   "source": [
    "s=\"hello\"\n",
    "print(len(s))"
   ]
  }
 ],
 "metadata": {
  "kernelspec": {
   "display_name": "Python 3",
   "language": "python",
   "name": "python3"
  },
  "language_info": {
   "codemirror_mode": {
    "name": "ipython",
    "version": 3
   },
   "file_extension": ".py",
   "mimetype": "text/x-python",
   "name": "python",
   "nbconvert_exporter": "python",
   "pygments_lexer": "ipython3",
   "version": "3.8.5"
  }
 },
 "nbformat": 4,
 "nbformat_minor": 4
}
