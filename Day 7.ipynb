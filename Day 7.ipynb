{
 "cells": [
  {
   "cell_type": "markdown",
   "metadata": {},
   "source": [
    "# Split Function"
   ]
  },
  {
   "cell_type": "raw",
   "metadata": {},
   "source": [
    "split(delimiter,maxsplit) #syntax"
   ]
  },
  {
   "cell_type": "code",
   "execution_count": 3,
   "metadata": {},
   "outputs": [
    {
     "name": "stdout",
     "output_type": "stream",
     "text": [
      "Enter two number: 5 6\n",
      "5\n",
      "6\n"
     ]
    }
   ],
   "source": [
    "x,y=input(\"Enter two number: \").split()\n",
    "print(x)\n",
    "print(y)"
   ]
  },
  {
   "cell_type": "code",
   "execution_count": 12,
   "metadata": {},
   "outputs": [
    {
     "name": "stdout",
     "output_type": "stream",
     "text": [
      "Enter two number: 4,5\n",
      "4\n",
      "5\n"
     ]
    }
   ],
   "source": [
    "x,y=input(\"Enter two number: \").split(',',2)\n",
    "print(x)\n",
    "print(y)"
   ]
  },
  {
   "cell_type": "code",
   "execution_count": 9,
   "metadata": {},
   "outputs": [
    {
     "name": "stdout",
     "output_type": "stream",
     "text": [
      "Enter two number: 4*5\n",
      "4\n",
      "5\n"
     ]
    }
   ],
   "source": [
    "x,y=input(\"Enter two number: \").split('*',2)\n",
    "print(x)\n",
    "print(y)"
   ]
  },
  {
   "cell_type": "code",
   "execution_count": 15,
   "metadata": {},
   "outputs": [
    {
     "name": "stdout",
     "output_type": "stream",
     "text": [
      "Enter your string: Hello How are you\n",
      "['Hello', 'How', 'are', 'you']\n"
     ]
    }
   ],
   "source": [
    "st=str(input(\"Enter your string: \")).split()\n",
    "print(st)"
   ]
  },
  {
   "cell_type": "markdown",
   "metadata": {},
   "source": [
    "# Map function"
   ]
  },
  {
   "cell_type": "raw",
   "metadata": {},
   "source": [
    "map(function,iterables)"
   ]
  },
  {
   "cell_type": "code",
   "execution_count": 18,
   "metadata": {},
   "outputs": [
    {
     "name": "stdout",
     "output_type": "stream",
     "text": [
      "Enter a string: Hi Hello\n",
      "Hi Hello\n"
     ]
    }
   ],
   "source": [
    "st1,st2=map(str,input(\"Enter a string: \").split())\n",
    "print(st1,st2)"
   ]
  },
  {
   "cell_type": "markdown",
   "metadata": {},
   "source": [
    "# Print Function"
   ]
  },
  {
   "cell_type": "raw",
   "metadata": {},
   "source": [
    "print(values,sep=\"\",end=\"\\n\")"
   ]
  },
  {
   "cell_type": "markdown",
   "metadata": {},
   "source": [
    "Write a program to print a persons date of birth with three inputs namely date, month and year and print it as dd-mm-yy."
   ]
  },
  {
   "cell_type": "code",
   "execution_count": 28,
   "metadata": {},
   "outputs": [
    {
     "name": "stdout",
     "output_type": "stream",
     "text": [
      "Enter date: 19\n",
      "Enter month: 07\n",
      "Enter Year: 2001\n",
      "Your date of Birth is-19-07-2001\n"
     ]
    }
   ],
   "source": [
    "d=input(\"Enter date: \")\n",
    "m=input(\"Enter month: \")\n",
    "y=input(\"Enter Year: \")\n",
    "print(\"Your date of Birth is\", d , m , y,sep=\"-\")"
   ]
  },
  {
   "cell_type": "code",
   "execution_count": null,
   "metadata": {},
   "outputs": [],
   "source": []
  }
 ],
 "metadata": {
  "kernelspec": {
   "display_name": "Python 3",
   "language": "python",
   "name": "python3"
  },
  "language_info": {
   "codemirror_mode": {
    "name": "ipython",
    "version": 3
   },
   "file_extension": ".py",
   "mimetype": "text/x-python",
   "name": "python",
   "nbconvert_exporter": "python",
   "pygments_lexer": "ipython3",
   "version": "3.8.5"
  }
 },
 "nbformat": 4,
 "nbformat_minor": 4
}
